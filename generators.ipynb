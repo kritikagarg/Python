{
  "nbformat": 4,
  "nbformat_minor": 0,
  "metadata": {
    "colab": {
      "name": "generators.ipynb",
      "version": "0.3.2",
      "provenance": [],
      "include_colab_link": true
    },
    "kernelspec": {
      "name": "python2",
      "display_name": "Python 2"
    }
  },
  "cells": [
    {
      "cell_type": "markdown",
      "metadata": {
        "id": "view-in-github",
        "colab_type": "text"
      },
      "source": [
        "[View in Colaboratory](https://colab.research.google.com/github/kritikagarg/Python/blob/master/generators.ipynb)"
      ]
    },
    {
      "metadata": {
        "id": "6WkKrfWYm0Ga",
        "colab_type": "code",
        "colab": {
          "base_uri": "https://localhost:8080/",
          "height": 34
        },
        "outputId": "b17b2883-aa7c-4228-9a8a-5a4b68d188a2"
      },
      "cell_type": "code",
      "source": [
        "print \"Fun with python : Generators\""
      ],
      "execution_count": 1,
      "outputs": [
        {
          "output_type": "stream",
          "text": [
            "Fun with python : Generators\n"
          ],
          "name": "stdout"
        }
      ]
    },
    {
      "metadata": {
        "id": "HOxJEdoQnBaU",
        "colab_type": "code",
        "colab": {
          "base_uri": "https://localhost:8080/",
          "height": 34
        },
        "outputId": "cbdde21f-e761-4876-c29c-f8999d1f8760"
      },
      "cell_type": "code",
      "source": [
        "#normal function : return square root of numbers\n",
        "def sqr(num):\n",
        "  result=[]\n",
        "  for i in num:\n",
        "    result.append(i*i)\n",
        "  return result\n",
        "    \n",
        "  \n",
        "print sqr([3,6,9]) "
      ],
      "execution_count": 2,
      "outputs": [
        {
          "output_type": "stream",
          "text": [
            "[9, 36, 81]\n"
          ],
          "name": "stdout"
        }
      ]
    },
    {
      "metadata": {
        "id": "5jVBE1lPnNOB",
        "colab_type": "code",
        "colab": {}
      },
      "cell_type": "code",
      "source": [
        "#square example : creating generator\n",
        "\n",
        "def sqr_gen(num):\n",
        "  for i in num :\n",
        "    yield i*i       #no need to append to list : no memory usage\n",
        "  yield 1*0          #can add more to the yield\n",
        "  \n"
      ],
      "execution_count": 0,
      "outputs": []
    },
    {
      "metadata": {
        "id": "N7iZg6IUnnFD",
        "colab_type": "code",
        "colab": {
          "base_uri": "https://localhost:8080/",
          "height": 34
        },
        "outputId": "070085a4-0074-483d-a9e8-b4e7780c9f7c"
      },
      "cell_type": "code",
      "source": [
        "result= sqr_gen([2,4,5,6])\n",
        "\n",
        "print result"
      ],
      "execution_count": 5,
      "outputs": [
        {
          "output_type": "stream",
          "text": [
            "<generator object sqr_gen at 0x7fb4aa930c30>\n"
          ],
          "name": "stdout"
        }
      ]
    },
    {
      "metadata": {
        "id": "e5HuZZwHn21o",
        "colab_type": "text"
      },
      "cell_type": "markdown",
      "source": [
        "1.   Generator doesnt hold the entire result in memory\n",
        "2.  It yields one result at a time\n"
      ]
    },
    {
      "metadata": {
        "id": "VaGtoDRjnwZR",
        "colab_type": "code",
        "colab": {
          "base_uri": "https://localhost:8080/",
          "height": 86
        },
        "outputId": "d701d01f-6e09-4989-88ca-2d5084d5b1d4"
      },
      "cell_type": "code",
      "source": [
        "#IT Computes the result only when you ask for it\n",
        "print next(result)\n",
        "print next(result)\n",
        "print next(result)\n",
        "print next(result)"
      ],
      "execution_count": 6,
      "outputs": [
        {
          "output_type": "stream",
          "text": [
            "4\n",
            "16\n",
            "25\n",
            "36\n"
          ],
          "name": "stdout"
        }
      ]
    },
    {
      "metadata": {
        "id": "oqTg7ClwoByg",
        "colab_type": "code",
        "colab": {
          "base_uri": "https://localhost:8080/",
          "height": 34
        },
        "outputId": "2a717100-8ffc-4a6a-adf8-5fd50be91ee4"
      },
      "cell_type": "code",
      "source": [
        "print \"Calculate square using list comprehension:\""
      ],
      "execution_count": 9,
      "outputs": [
        {
          "output_type": "stream",
          "text": [
            "Calculate square using list comprehension:\n"
          ],
          "name": "stdout"
        }
      ]
    },
    {
      "metadata": {
        "id": "LPL5k00Cofjn",
        "colab_type": "code",
        "colab": {
          "base_uri": "https://localhost:8080/",
          "height": 34
        },
        "outputId": "86d91972-68e5-4a1f-b985-a73f67af9e49"
      },
      "cell_type": "code",
      "source": [
        "#using list comprehension\n",
        "def sqr2(num):\n",
        "  return [i*i for i in num]\n",
        "\n",
        "print sqr2([3,6,9])"
      ],
      "execution_count": 10,
      "outputs": [
        {
          "output_type": "stream",
          "text": [
            "[9, 36, 81]\n"
          ],
          "name": "stdout"
        }
      ]
    },
    {
      "metadata": {
        "id": "4xluFmCHn9L3",
        "colab_type": "code",
        "colab": {
          "base_uri": "https://localhost:8080/",
          "height": 34
        },
        "outputId": "2b994e96-7f6f-4cea-a498-c2055e524bdd"
      },
      "cell_type": "code",
      "source": [
        "#Creating Generators just like list comprehension\n",
        "\n",
        "#Just use () instead of []\n",
        "easy_gen= ( i*i for i in [2,4,5,6])\n",
        "\n",
        "print easy_gen"
      ],
      "execution_count": 11,
      "outputs": [
        {
          "output_type": "stream",
          "text": [
            "<generator object <genexpr> at 0x7fb4aa930fa0>\n"
          ],
          "name": "stdout"
        }
      ]
    },
    {
      "metadata": {
        "id": "zdHKzspUoqKJ",
        "colab_type": "code",
        "colab": {
          "base_uri": "https://localhost:8080/",
          "height": 121
        },
        "outputId": "a729f19b-9234-4793-94ec-c75fa1345d96"
      },
      "cell_type": "code",
      "source": [
        "print next(easy_gen)\n",
        "\n",
        "print \"\\n Iterate the generator:\"\n",
        "for i in easy_gen:\n",
        "  print i"
      ],
      "execution_count": 12,
      "outputs": [
        {
          "output_type": "stream",
          "text": [
            "4\n",
            "\n",
            " Iterate the generator:\n",
            "16\n",
            "25\n",
            "36\n"
          ],
          "name": "stdout"
        }
      ]
    },
    {
      "metadata": {
        "id": "U8EhgXLvovCJ",
        "colab_type": "code",
        "colab": {
          "base_uri": "https://localhost:8080/",
          "height": 34
        },
        "outputId": "5e36f35f-3227-424f-b298-7ca5c8a955ea"
      },
      "cell_type": "code",
      "source": [
        "#Can convert it  back to list --> But it loses all the benifits of generator\n",
        "print list(sqr_gen([2,4,5,6]))"
      ],
      "execution_count": 13,
      "outputs": [
        {
          "output_type": "stream",
          "text": [
            "[4, 16, 25, 36, 0]\n"
          ],
          "name": "stdout"
        }
      ]
    },
    {
      "metadata": {
        "id": "rrOMZ02so6ci",
        "colab_type": "text"
      },
      "cell_type": "markdown",
      "source": [
        "Using Generators \n",
        "1.   Makes code more readable\n",
        "2.   Gives you performance boost in terms of both memory and execution time "
      ]
    },
    {
      "metadata": {
        "id": "39AdkKVmo2m5",
        "colab_type": "code",
        "colab": {}
      },
      "cell_type": "code",
      "source": [
        ""
      ],
      "execution_count": 0,
      "outputs": []
    }
  ]
}