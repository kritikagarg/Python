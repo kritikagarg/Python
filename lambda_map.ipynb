{
  "nbformat": 4,
  "nbformat_minor": 0,
  "metadata": {
    "colab": {
      "name": "lambda_map.ipynb",
      "version": "0.3.2",
      "provenance": [],
      "include_colab_link": true
    },
    "kernelspec": {
      "name": "python2",
      "display_name": "Python 2"
    }
  },
  "cells": [
    {
      "cell_type": "markdown",
      "metadata": {
        "id": "view-in-github",
        "colab_type": "text"
      },
      "source": [
        "[View in Colaboratory](https://colab.research.google.com/github/kritikagarg/Python/blob/master/lambda_map.ipynb)"
      ]
    },
    {
      "metadata": {
        "id": "OkCrAWYtTVUa",
        "colab_type": "code",
        "colab": {
          "base_uri": "https://localhost:8080/",
          "height": 34
        },
        "outputId": "e47f4ab9-c8d4-4407-ed32-975ea09cf258"
      },
      "cell_type": "code",
      "source": [
        "print \"Fun with python : lambda, maps, filter, zip\""
      ],
      "execution_count": 64,
      "outputs": [
        {
          "output_type": "stream",
          "text": [
            "Fun with python : lambda, maps, filter, zip\n"
          ],
          "name": "stdout"
        }
      ]
    },
    {
      "metadata": {
        "id": "ebm_ArKMTa3d",
        "colab_type": "code",
        "colab": {
          "base_uri": "https://localhost:8080/",
          "height": 34
        },
        "outputId": "006b68e6-703c-46a8-cc97-34a4c7fc9665"
      },
      "cell_type": "code",
      "source": [
        "#normal function : return square root of numbers\n",
        "def sqr(num):\n",
        "  result=[]\n",
        "  for i in num:\n",
        "    result.append(i*i)\n",
        "  return result\n",
        "    \n",
        "  \n",
        "print sqr([3,6,9])  "
      ],
      "execution_count": 63,
      "outputs": [
        {
          "output_type": "stream",
          "text": [
            "[9, 36, 81]\n"
          ],
          "name": "stdout"
        }
      ]
    },
    {
      "metadata": {
        "id": "s_vJKIoiW4I6",
        "colab_type": "code",
        "colab": {
          "base_uri": "https://localhost:8080/",
          "height": 34
        },
        "outputId": "9546de05-e9ae-4bb5-ae45-264e7823ff93"
      },
      "cell_type": "code",
      "source": [
        "#using list comprehension\n",
        "def sqr2(num):\n",
        "  return [i*i for i in num]\n",
        "\n",
        "print sqr2([3,6,9])"
      ],
      "execution_count": 8,
      "outputs": [
        {
          "output_type": "stream",
          "text": [
            "[9, 36, 81]\n"
          ],
          "name": "stdout"
        }
      ]
    },
    {
      "metadata": {
        "id": "iowfp4BWX9Jl",
        "colab_type": "code",
        "colab": {
          "base_uri": "https://localhost:8080/",
          "height": 34
        },
        "outputId": "4cd76d7d-f808-41f5-d945-6179bedf47f0"
      },
      "cell_type": "code",
      "source": [
        "#using map\n",
        "#Map: used to map same function on list of elements i.e write a function for single element then use map to perform that function on bunch of elements\n",
        "\n",
        "def sqr_map(x):\n",
        "  return x*x\n",
        "\n",
        "map(sqr_map, [2,4,6,7])\n",
        "\n"
      ],
      "execution_count": 20,
      "outputs": [
        {
          "output_type": "execute_result",
          "data": {
            "text/plain": [
              "[4, 16, 36, 49]"
            ]
          },
          "metadata": {
            "tags": []
          },
          "execution_count": 20
        }
      ]
    },
    {
      "metadata": {
        "id": "wRF9H3chXM8m",
        "colab_type": "code",
        "colab": {
          "base_uri": "https://localhost:8080/",
          "height": 69
        },
        "outputId": "2d6e3afc-0819-4975-9b90-6f70ccac6bc9"
      },
      "cell_type": "code",
      "source": [
        "#using lambda\n",
        "# lambda function is used for creating small, one-time and anonymous function objects in Python\n",
        "sqr3=lambda x : x*x\n",
        "\n",
        "\"using lambda:\"\n",
        "print sqr3(4)\n",
        "\n",
        "print \"Calling lambda with map:\"\n",
        "print map(sqr3, [2,4,6,99])\n"
      ],
      "execution_count": 21,
      "outputs": [
        {
          "output_type": "stream",
          "text": [
            "16\n",
            "Calling lambda with map:\n",
            "[4, 16, 36, 9801]\n"
          ],
          "name": "stdout"
        }
      ]
    },
    {
      "metadata": {
        "id": "5rBpsWERZdjU",
        "colab_type": "code",
        "colab": {
          "base_uri": "https://localhost:8080/",
          "height": 34
        },
        "outputId": "714c2ead-0e5a-47d8-8ccc-026e2fecd6af"
      },
      "cell_type": "code",
      "source": [
        "print \"Mostly lambda functions are passed as parameters to a function which expects a function objects as parameter like map, reduce, filter functions\""
      ],
      "execution_count": 22,
      "outputs": [
        {
          "output_type": "stream",
          "text": [
            "Mostly lambda functions are passed as parameters to a function which expects a function objects as parameter like map, reduce, filter functions\n"
          ],
          "name": "stdout"
        }
      ]
    },
    {
      "metadata": {
        "id": "GTCPmVo4Zyvt",
        "colab_type": "code",
        "colab": {
          "base_uri": "https://localhost:8080/",
          "height": 34
        },
        "outputId": "7e4d9e77-5efe-4603-8a9c-3c6e512bae43"
      },
      "cell_type": "code",
      "source": [
        "#One-liner\n",
        "map(lambda x: x*x , [2,3,4])"
      ],
      "execution_count": 23,
      "outputs": [
        {
          "output_type": "execute_result",
          "data": {
            "text/plain": [
              "[4, 9, 16]"
            ]
          },
          "metadata": {
            "tags": []
          },
          "execution_count": 23
        }
      ]
    },
    {
      "metadata": {
        "id": "P2uLAw0oak6b",
        "colab_type": "code",
        "colab": {
          "base_uri": "https://localhost:8080/",
          "height": 52
        },
        "outputId": "40455ba2-1656-4339-9775-a22d19ee6745"
      },
      "cell_type": "code",
      "source": [
        "#FOR TWO VARIABLES: X,Y\n",
        "\n",
        "print \"Addition of two list of numbers:\"\n",
        "\n",
        "list1=[1,2,3,4]\n",
        "list2=[10,20,30,40]\n",
        "\n",
        "print map(lambda x,y: x+y, list1, list2)"
      ],
      "execution_count": 24,
      "outputs": [
        {
          "output_type": "stream",
          "text": [
            "Addition of two list of numbers:\n",
            "[11, 22, 33, 44]\n"
          ],
          "name": "stdout"
        }
      ]
    },
    {
      "metadata": {
        "id": "1xqUv2mVbXk0",
        "colab_type": "code",
        "colab": {
          "base_uri": "https://localhost:8080/",
          "height": 34
        },
        "outputId": "b93372b0-6011-4f4e-a71f-1ec6a110cfe6"
      },
      "cell_type": "code",
      "source": [
        "#zip: zip takes n number of iterables and returns list of tuples.\n",
        "zip(list1,list2)"
      ],
      "execution_count": 25,
      "outputs": [
        {
          "output_type": "execute_result",
          "data": {
            "text/plain": [
              "[(1, 10), (2, 20), (3, 30), (4, 40)]"
            ]
          },
          "metadata": {
            "tags": []
          },
          "execution_count": 25
        }
      ]
    },
    {
      "metadata": {
        "id": "knceUbV-cR-k",
        "colab_type": "code",
        "colab": {
          "base_uri": "https://localhost:8080/",
          "height": 52
        },
        "outputId": "1a112cd1-bf49-4017-8b95-3c77379d4b4a"
      },
      "cell_type": "code",
      "source": [
        "#filter(function_object, iterable)\n",
        "#filter returns only those element for which the function_object returns true.\n",
        "\n",
        "print \"Odd no. is given list are :\"\n",
        "\n",
        "lis= range(10,30)\n",
        "\n",
        "filter(lambda x: x%2!=0 , lis )"
      ],
      "execution_count": 32,
      "outputs": [
        {
          "output_type": "stream",
          "text": [
            "Odd no. is given list are :\n"
          ],
          "name": "stdout"
        },
        {
          "output_type": "execute_result",
          "data": {
            "text/plain": [
              "[11, 13, 15, 17, 19, 21, 23, 25, 27, 29]"
            ]
          },
          "metadata": {
            "tags": []
          },
          "execution_count": 32
        }
      ]
    }
  ]
}